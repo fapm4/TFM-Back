{
 "cells": [
  {
   "cell_type": "code",
   "execution_count": 31,
   "id": "cf8375d3",
   "metadata": {},
   "outputs": [],
   "source": [
    "import ffmpeg\n",
    "import subprocess\n",
    "import re"
   ]
  },
  {
   "cell_type": "code",
   "execution_count": 13,
   "id": "3207abe6",
   "metadata": {},
   "outputs": [],
   "source": [
    "file_path = '/Users/francip/Desktop/TFM-Back/media/455F52CD-984C-4BD1-B0A6-D9AA02EB83C0/455F52CD-984C-4BD1-B0A6-D9AA02EB83C0.mp3'\n",
    "dbs = -20"
   ]
  },
  {
   "cell_type": "code",
   "execution_count": null,
   "id": "5fdc7041",
   "metadata": {},
   "outputs": [
    {
     "name": "stdout",
     "output_type": "stream",
     "text": [
      "Silence from 3.382608 to 4.556281\n",
      "Silence from 4.941791 to 6.529887\n",
      "Silence from 6.529977 to 8.66381\n",
      "Silence from 8.663855 to 16.252268\n",
      "Silence from 16.411814 to 18.876372\n"
     ]
    }
   ],
   "source": [
    "err, out = (\n",
    "\tffmpeg\n",
    "\t.input(file_path)\n",
    "\t.filter('silencedetect', n=f'{dbs}dB', d=0.5)\n",
    "\t.output('null', f='null')\n",
    "\t.run(capture_stdout=True, capture_stderr=True)\n",
    ")\n",
    "\n",
    "silence_start_pattern = r'silence_start: (\\d+\\.\\d+)'\n",
    "silence_end_pattern = r'silence_end: (\\d+\\.\\d+)'\n",
    "\n",
    "silence_periods = []\n",
    "current_start = None\n",
    "\n",
    "for line in out.decode().splitlines():\n",
    "    start_match = re.search(silence_start_pattern, line)\n",
    "    if start_match:\n",
    "        current_start = float(start_match.group(1))\n",
    "    \n",
    "    end_match = re.search(silence_end_pattern, line)\n",
    "    if end_match and current_start is not None:\n",
    "        current_end = float(end_match.group(1))\n",
    "        silence_periods.append((current_start, current_end))\n",
    "        current_start = None\n",
    "\n",
    "for start, end in silence_periods:\n",
    "    print(f'Silence from {start} to {end}')"
   ]
  },
  {
   "cell_type": "code",
   "execution_count": 26,
   "id": "44cbfcae",
   "metadata": {},
   "outputs": [
    {
     "ename": "TypeError",
     "evalue": "a bytes-like object is required, not 'str'",
     "output_type": "error",
     "traceback": [
      "\u001b[0;31m---------------------------------------------------------------------------\u001b[0m",
      "\u001b[0;31mTypeError\u001b[0m                                 Traceback (most recent call last)",
      "Cell \u001b[0;32mIn[26], line 2\u001b[0m\n\u001b[1;32m      1\u001b[0m \u001b[38;5;28;01mfor\u001b[39;00m line \u001b[38;5;129;01min\u001b[39;00m out\u001b[38;5;241m.\u001b[39msplitlines():\n\u001b[0;32m----> 2\u001b[0m     \u001b[38;5;28;01mif\u001b[39;00m \u001b[38;5;124;43m'\u001b[39;49m\u001b[38;5;124;43msilence_start\u001b[39;49m\u001b[38;5;124;43m'\u001b[39;49m\u001b[43m \u001b[49m\u001b[38;5;129;43;01min\u001b[39;49;00m\u001b[43m \u001b[49m\u001b[43mline\u001b[49m \u001b[38;5;129;01mor\u001b[39;00m \u001b[38;5;124m'\u001b[39m\u001b[38;5;124msilence_end\u001b[39m\u001b[38;5;124m'\u001b[39m \u001b[38;5;129;01min\u001b[39;00m line:\n\u001b[1;32m      3\u001b[0m         \u001b[38;5;28mprint\u001b[39m(line)\n",
      "\u001b[0;31mTypeError\u001b[0m: a bytes-like object is required, not 'str'"
     ]
    }
   ],
   "source": [
    "for line in out.splitlines():\n",
    "    if 'silence_start' in line or 'silence_end' in line:\n",
    "        print(line)"
   ]
  }
 ],
 "metadata": {
  "kernelspec": {
   "display_name": "TFM",
   "language": "python",
   "name": "python3"
  },
  "language_info": {
   "codemirror_mode": {
    "name": "ipython",
    "version": 3
   },
   "file_extension": ".py",
   "mimetype": "text/x-python",
   "name": "python",
   "nbconvert_exporter": "python",
   "pygments_lexer": "ipython3",
   "version": "3.10.16"
  }
 },
 "nbformat": 4,
 "nbformat_minor": 5
}
